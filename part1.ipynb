{
 "cells": [
  {
   "cell_type": "code",
   "execution_count": 131,
   "id": "81521307",
   "metadata": {},
   "outputs": [],
   "source": [
    "import numpy as np\n",
    "import matplotlib.pyplot as plt\n",
    "import pandas as pd"
   ]
  },
  {
   "cell_type": "code",
   "execution_count": 132,
   "id": "13b1596b",
   "metadata": {},
   "outputs": [],
   "source": [
    "def mse(array):\n",
    "    return np.mean(array.flatten() ** 2)"
   ]
  },
  {
   "cell_type": "code",
   "execution_count": 133,
   "id": "283b70c4",
   "metadata": {},
   "outputs": [],
   "source": [
    "p = np.array([[1,1,1], \n",
    "              [1,2,1], \n",
    "              [2,-1,1], \n",
    "              [2,0,1], \n",
    "              [-1,2,1], \n",
    "              [-2,1,1], \n",
    "              [-1,-1,1], \n",
    "              [-2,-2,1]], dtype='float')\n",
    "\n",
    "t = np.array([[1,1],\n",
    "              [1,1],\n",
    "              [1,0],\n",
    "              [1,0],\n",
    "              [0,1],\n",
    "              [0,1],\n",
    "              [0,0],\n",
    "              [0,0]], dtype='float')\n",
    "\n",
    "weight = np.array([[0,0, 1],\n",
    "                   [0,0, 1]], dtype='float')\n",
    "\n",
    "errors = np.zeros([8,2], dtype='float')\n",
    "mean_squared_error = 1\n",
    "\n",
    "mse_iterations = []\n",
    "\n",
    "learning_rate = 0.01\n",
    "error_threshold = 0.04"
   ]
  },
  {
   "cell_type": "code",
   "execution_count": 134,
   "id": "911b385f",
   "metadata": {},
   "outputs": [
    {
     "name": "stdout",
     "output_type": "stream",
     "text": [
      "[[ 0.29751401  0.00408416  0.56559364]\n",
      " [-0.07788981  0.30312181  0.5013251 ]]\n",
      "Final MSE: 0.03849238190607263\n"
     ]
    }
   ],
   "source": [
    "while mean_squared_error > error_threshold:\n",
    "    for i in range(0, len(p)):\n",
    "        a = np.dot(weight,p[i])\n",
    "        e = t[i] - a\n",
    "        errors[i] = e\n",
    "        weight[0] = weight[0] + 2 * learning_rate * e[0] * p[i]\n",
    "        weight[1] = weight[1] + 2 * learning_rate * e[1] * p[i]\n",
    "    mean_squared_error = mse(errors)\n",
    "    mse_iterations.append(mean_squared_error)\n",
    "\n",
    "print(weight)\n",
    "print(\"Final MSE: \" + str(mse(errors)))"
   ]
  },
  {
   "cell_type": "code",
   "execution_count": 135,
   "id": "a33eed24",
   "metadata": {},
   "outputs": [
    {
     "data": {
      "text/plain": [
       "[<matplotlib.lines.Line2D at 0x1b007319e80>]"
      ]
     },
     "execution_count": 135,
     "metadata": {},
     "output_type": "execute_result"
    },
    {
     "data": {
      "image/png": "[encoded data removed]",
      "text/plain": [
       "<Figure size 640x480 with 1 Axes>"
      ]
     },
     "metadata": {},
     "output_type": "display_data"
    }
   ],
   "source": [
    "plt.title(\"MSE as a function of Iterations\")\n",
    "plt.xlabel(\"Iteration\")\n",
    "plt.ylabel(\"Mean Squared Error\")\n",
    "plt.semilogy(mse_iterations)"
   ]
  },
  {
   "cell_type": "code",
   "execution_count": 136,
   "id": "fe214ec4",
   "metadata": {},
   "outputs": [
    {
     "name": "stdout",
     "output_type": "stream",
     "text": [
      "  MSE between each output and the 4 classes\n",
      "  input        t1        t2        t3        t4\n",
      "0    p1  0.046205  0.272762  0.413396  0.639953\n",
      "1    p2  0.008725  0.538404  0.380001  0.909680\n",
      "2    p3  0.470728  0.013152  1.127266  0.669689\n",
      "3    p4  0.227055  0.072601  0.887677  0.733222\n",
      "4    p5  0.279106  0.964564  0.055354  0.740812\n",
      "5    p6  0.526462  0.986689  0.001112  0.461339\n",
      "6    p7  0.532872  0.308965  0.296867  0.072961\n",
      "7    p8  0.988742  0.539603  0.451139  0.002000\n"
     ]
    }
   ],
   "source": [
    "dt = np.dtype([('input', 'U2'), ('t1', 'f8'), ('t2', 'f8'), ('t3', 'f8'), ('t4', 'f8')])\n",
    "table = np.zeros(len(p), dtype=dt)\n",
    "for i in range(0, len(p)):\n",
    "    actual_output = np.dot(weight, p[i])\n",
    "    \n",
    "    table[i] = np.array([(\"p\" + str(i+1), mse([1,1] - actual_output), mse([1,0] - actual_output), mse([0,1] - actual_output), mse([0,0] - actual_output))], dtype=dt)\n",
    "\n",
    "print(\"  MSE between each output and the 4 classes\")\n",
    "print(pd.DataFrame(table))"
   ]
  }
 ],
 "metadata": {
  "kernelspec": {
   "display_name": "enel525-lab3",
   "language": "python",
   "name": "python3"
  },
  "language_info": {
   "codemirror_mode": {
    "name": "ipython",
    "version": 3
   },
   "file_extension": ".py",
   "mimetype": "text/x-python",
   "name": "python",
   "nbconvert_exporter": "python",
   "pygments_lexer": "ipython3",
   "version": "3.12.10"
  }
 },
 "nbformat": 4,
 "nbformat_minor": 5
}
