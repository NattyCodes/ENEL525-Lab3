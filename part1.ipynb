{
 "cells": [
  {
   "cell_type": "code",
   "execution_count": 418,
   "id": "81521307",
   "metadata": {},
   "outputs": [],
   "source": [
    "import numpy as np\n",
    "import matplotlib.pyplot as plt\n",
    "import pandas as pd\n",
    "import sklearn"
   ]
  },
  {
   "cell_type": "code",
   "execution_count": 419,
   "id": "13b1596b",
   "metadata": {},
   "outputs": [],
   "source": [
    "def mse(array):\n",
    "    return np.mean(array.flatten() ** 2)"
   ]
  },
  {
   "cell_type": "code",
   "execution_count": 420,
   "id": "283b70c4",
   "metadata": {},
   "outputs": [],
   "source": [
    "p = np.array([[1,1], \n",
    "              [1,2], \n",
    "              [2,-1], \n",
    "              [2,0], \n",
    "              [-1,2], \n",
    "              [-2,1], \n",
    "              [-1,-1], \n",
    "              [-2,-2]], dtype='float')\n",
    "\n",
    "t = np.array([[-1,-1],\n",
    "              [-1,-1],\n",
    "              [-1,1],\n",
    "              [-1,1],\n",
    "              [1,-1],\n",
    "              [1,-1],\n",
    "              [1,1],\n",
    "              [1,1]], dtype='float')\n",
    "\n",
    "weight = np.array([[1,0],\n",
    "                   [0,1]], dtype='float')\n",
    "bias = np.array([[1,1]], dtype='float')\n",
    "errors = np.zeros([8,2], dtype='float')\n",
    "mean_squared_error = 1\n",
    "mse_iterations = []\n",
    "\n",
    "learning_rate = 0.01\n",
    "error_threshold = 0.121"
   ]
  },
  {
   "cell_type": "code",
   "execution_count": 421,
   "id": "911b385f",
   "metadata": {},
   "outputs": [
    {
     "name": "stdout",
     "output_type": "stream",
     "text": [
      "[[-0.58244574 -0.04046309]\n",
      " [ 0.18099466 -0.65990448]]\n",
      "Final MSE: 0.12098985017112973\n"
     ]
    }
   ],
   "source": [
    "while mean_squared_error > error_threshold:\n",
    "    errors = np.zeros_like(t)  # same shape as t\n",
    "    for i in range(len(p)):\n",
    "        a = np.dot(weight, p[i]) + bias       # prediction\n",
    "        e = t[i] - a                          # error\n",
    "        errors[i] = e \n",
    "        \n",
    "        weight = weight + 2 * learning_rate * np.outer(e, p[i])\n",
    "        bias = bias + 2 * learning_rate * e\n",
    "    mean_squared_error = mse(errors)\n",
    "    mse_iterations.append(mean_squared_error)\n",
    "\n",
    "print(weight)\n",
    "print(\"Final MSE: \" + str(mse(errors)))"
   ]
  },
  {
   "cell_type": "code",
   "execution_count": 422,
   "id": "a33eed24",
   "metadata": {},
   "outputs": [
    {
     "data": {
      "text/plain": [
       "[<matplotlib.lines.Line2D at 0x1fcc19895e0>]"
      ]
     },
     "execution_count": 422,
     "metadata": {},
     "output_type": "execute_result"
    },
    {
     "data": {
      "image/png": "[encoded data removed]",
      "text/plain": [
       "<Figure size 640x480 with 1 Axes>"
      ]
     },
     "metadata": {},
     "output_type": "display_data"
    }
   ],
   "source": [
    "plt.title(\"MSE as a function of Iterations\")\n",
    "plt.xlabel(\"Iteration\")\n",
    "plt.ylabel(\"Mean Squared Error\")\n",
    "plt.semilogy(mse_iterations)"
   ]
  },
  {
   "cell_type": "code",
   "execution_count": null,
   "id": "fe214ec4",
   "metadata": {},
   "outputs": [
    {
     "name": "stdout",
     "output_type": "stream",
     "text": [
      "[[-0.60041119 -0.29479839]]\n",
      "[[-0.64087428 -0.95470287]]\n",
      "[[-1.10193076  1.20600522]]\n",
      "[[-1.14239385  0.54610074]]\n",
      "[[ 0.52401721 -1.31669219]]\n",
      "[[ 1.14692604 -0.83778237]]\n",
      "[[0.64540647 0.66302125]]\n",
      "[[1.26831529 1.14193107]]\n",
      "  MSE between each output and the 4 classes\n",
      "  input        t1        t2        t3        t4\n",
      "0    p1  0.328490  0.918087  1.529313  2.118909\n",
      "1    p2  0.065512  1.974917  1.347260  3.256666\n",
      "2    p3  2.438424  0.026414  4.642286  2.230276\n",
      "3    p4  1.205352  0.113150  3.490139  2.397938\n",
      "4    p5  1.211461  3.844846  0.163427  2.796811\n",
      "5    p6  2.317803  3.993368  0.023951  1.699516\n",
      "6    p7  2.736501  1.410459  1.445688  0.119646\n",
      "7    p8  4.866561  2.582699  2.329931  0.046069\n"
     ]
    }
   ],
   "source": [
    "dt = np.dtype([('input', 'U2'), ('t1', 'f8'), ('t2', 'f8'), ('t3', 'f8'), ('t4', 'f8')])\n",
    "table = np.zeros(len(p), dtype=dt)\n",
    "for i in range(0, len(p)):\n",
    "    actual_output = np.dot(weight, p[i]) + bias\n",
    "    \n",
    "    table[i] = np.array([(\"p\" + str(i+1), mse([-1,-1] - actual_output), mse([-1,1] - actual_output), mse([1,-1] - actual_output), mse([1,1] - actual_output))], dtype=dt)\n",
    "\n",
    "print(\"  MSE between each output and the 4 classes\")\n",
    "print(pd.DataFrame(table))"
   ]
  }
 ],
 "metadata": {
  "kernelspec": {
   "display_name": "enel525-lab3",
   "language": "python",
   "name": "python3"
  },
  "language_info": {
   "codemirror_mode": {
    "name": "ipython",
    "version": 3
   },
   "file_extension": ".py",
   "mimetype": "text/x-python",
   "name": "python",
   "nbconvert_exporter": "python",
   "pygments_lexer": "ipython3",
   "version": "3.12.10"
  }
 },
 "nbformat": 4,
 "nbformat_minor": 5
}
